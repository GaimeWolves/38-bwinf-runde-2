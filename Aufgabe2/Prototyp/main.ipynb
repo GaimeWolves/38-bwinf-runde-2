{
 "nbformat": 4,
 "nbformat_minor": 2,
 "metadata": {
  "language_info": {
   "name": "python",
   "codemirror_mode": {
    "name": "ipython",
    "version": 3
   },
   "version": "3.7.4"
  },
  "orig_nbformat": 2,
  "file_extension": ".py",
  "mimetype": "text/x-python",
  "name": "python",
  "npconvert_exporter": "python",
  "pygments_lexer": "ipython3",
  "version": 3
 },
 "cells": [
  {
   "source": [
    "from typing import List\n",
    "from copy import deepcopy\n",
    "from queue import Queue\n",
    "from inspect import isclass\n",
    "import heapq\n",
    "import math\n",
    "import sys"
   ],
   "cell_type": "code",
   "outputs": [
    {
     "output_type": "error",
     "evalue": "Error: Jupyter server crashed. Unable to connect. \r\nError code from jupyter: 1"
    }
   ],
   "metadata": {},
   "execution_count": null
  },
  {
   "source": [
    "class PriorityQueue:\n",
    "    def __init__(self):\n",
    "        self._queue = []\n",
    "        self._index = 0\n",
    " \n",
    "    def push(self, item, priority):\n",
    "        heapq.heappush(self._queue, (priority, self._index, item))\n",
    "        self._index += 1\n",
    " \n",
    "    def pop(self):\n",
    "        return heapq.heappop(self._queue)[-1]\n",
    "\n",
    "    def empty(self):\n",
    "        return len(self._queue) == 0\n",
    "\n",
    "    def count(self):\n",
    "        return len(self._queue)"
   ],
   "cell_type": "code",
   "outputs": [
    {
     "output_type": "error",
     "evalue": "Error: Jupyter server crashed. Unable to connect. \r\nError code from jupyter: 1"
    }
   ],
   "metadata": {},
   "execution_count": null
  },
  {
   "source": [
    "class Operation(object):\n",
    "    def __init__(self, operands: List):\n",
    "        self.parent = None\n",
    "        self.operands = operands\n",
    "        for operand in operands:\n",
    "            if isinstance(operand, Operation):\n",
    "                operand.parent = self\n",
    "    \n",
    "    def calc(self):\n",
    "        pass"
   ],
   "cell_type": "code",
   "outputs": [
    {
     "output_type": "error",
     "evalue": "Error: Jupyter server crashed. Unable to connect. \r\nError code from jupyter: 1"
    }
   ],
   "metadata": {},
   "execution_count": null
  },
  {
   "source": [
    "class Digit(Operation):\n",
    "    def __init__(self, num):\n",
    "        super().__init__([num])\n",
    "\n",
    "    def calc(self):\n",
    "        return self.operands[0]\n",
    "\n",
    "    def __str__(self):\n",
    "        return str(self.operands[0])\n",
    "\n",
    "    def __eq__(self, other):\n",
    "        return type(self) == type(other) and self.operands[0] == other.operands[0]"
   ],
   "cell_type": "code",
   "outputs": [
    {
     "output_type": "error",
     "evalue": "Error: Jupyter server crashed. Unable to connect. \r\nError code from jupyter: 1"
    }
   ],
   "metadata": {},
   "execution_count": null
  },
  {
   "source": [
    "class Number(Operation):\n",
    "    def __init__(self, operands: List[Operation]):\n",
    "        super().__init__(operands)\n",
    "\n",
    "    def calc(self): \n",
    "        numStr = \"\"\n",
    "        for op in self.operands:\n",
    "            numStr += str(op.calc())\n",
    "        return int(numStr)\n",
    "        \n",
    "    def __str__(self):\n",
    "        numStr = \"\"\n",
    "        for op in self.operands:\n",
    "            numStr += str(op.calc())\n",
    "        return numStr\n",
    "\n",
    "    def __eq__(self, other):\n",
    "        return type(self) == type(other) and self.calc() == other.calc()"
   ],
   "cell_type": "code",
   "outputs": [
    {
     "output_type": "error",
     "evalue": "Error: Jupyter server crashed. Unable to connect. \r\nError code from jupyter: 1"
    }
   ],
   "metadata": {},
   "execution_count": null
  },
  {
   "source": [
    "class Addition(Operation):\n",
    "    def __init__(self, operands: List[Operation]):\n",
    "        super().__init__(operands)\n",
    "\n",
    "    def calc(self):\n",
    "        op1 = self.operands[0].calc()\n",
    "        op2 = self.operands[1].calc()\n",
    "\n",
    "        try:\n",
    "            if math.isnan(op1) or math.isnan(op2):\n",
    "                return float('nan')\n",
    "        except OverflowError:\n",
    "            return float('nan')\n",
    "\n",
    "        result = op1 + op2\n",
    "\n",
    "        if result > int(sys.float_info.max):\n",
    "            return float('nan')\n",
    "\n",
    "        return result\n",
    "\n",
    "    def __str__(self):\n",
    "        return \"(\" + str(self.operands[0]) + \"+\" + str(self.operands[1]) + \")\"\n",
    "\n",
    "    def __eq__(self, other):\n",
    "        return type(self) == type(other) and ((self.operands[0] == other.operands[0] and self.operands[1] == other.operands[1]) or (self.operands[0] == other.operands[1] and self.operands[1] == other.operands[0]))"
   ],
   "cell_type": "code",
   "outputs": [
    {
     "output_type": "error",
     "evalue": "Error: Jupyter server crashed. Unable to connect. \r\nError code from jupyter: 1"
    }
   ],
   "metadata": {},
   "execution_count": null
  },
  {
   "source": [
    "class Subtraction(Operation):\n",
    "    def __init__(self, operands: List[Operation]):\n",
    "        super().__init__(operands)\n",
    "\n",
    "    def calc(self):\n",
    "        op1 = self.operands[0].calc()\n",
    "        op2 = self.operands[1].calc()\n",
    "\n",
    "        try:\n",
    "            if math.isnan(op1) or math.isnan(op2):\n",
    "                return float('nan')\n",
    "        except OverflowError:\n",
    "            return float('nan')\n",
    "\n",
    "        result = op1 - op2\n",
    "\n",
    "        if result > int(sys.float_info.max):\n",
    "            return float('nan')\n",
    "\n",
    "        return result\n",
    "\n",
    "    def __str__(self):\n",
    "        return \"(\" + str(self.operands[0]) + \"-\" + str(self.operands[1]) + \")\"\n",
    "\n",
    "    def __eq__(self, other):\n",
    "        return type(self) == type(other) and self.operands[0] == other.operands[0] and self.operands[1] == other.operands[1]"
   ],
   "cell_type": "code",
   "outputs": [
    {
     "output_type": "error",
     "evalue": "Error: Jupyter server crashed. Unable to connect. \r\nError code from jupyter: 1"
    }
   ],
   "metadata": {},
   "execution_count": null
  },
  {
   "source": [
    "class Multiplication(Operation):\n",
    "    def __init__(self, operands: List[Operation]):\n",
    "        super().__init__(operands)\n",
    "\n",
    "    def calc(self):\n",
    "        op1 = self.operands[0].calc()\n",
    "        op2 = self.operands[1].calc()\n",
    "\n",
    "        try:\n",
    "            if math.isnan(op1) or math.isnan(op2):\n",
    "                return float('nan')\n",
    "        except OverflowError:\n",
    "            return float('nan')\n",
    "\n",
    "        result = op1 * op2\n",
    "\n",
    "        if result > int(sys.float_info.max):\n",
    "            return float('nan')\n",
    "\n",
    "        return result\n",
    "        \n",
    "    def __str__(self):\n",
    "        return \"(\" + str(self.operands[0]) + \"*\" + str(self.operands[1]) + \")\"\n",
    "\n",
    "    def __eq__(self, other):\n",
    "        return type(self) == type(other) and ((self.operands[0] == other.operands[0] and self.operands[1] == other.operands[1]) or (self.operands[0] == other.operands[1] and self.operands[1] == other.operands[0]))   "
   ],
   "cell_type": "code",
   "outputs": [
    {
     "output_type": "error",
     "evalue": "Error: Jupyter server crashed. Unable to connect. \r\nError code from jupyter: 1"
    }
   ],
   "metadata": {},
   "execution_count": null
  },
  {
   "source": [
    "class Division(Operation):\n",
    "    def __init__(self, operands: List[Operation]):\n",
    "        super().__init__(operands)\n",
    "\n",
    "    def calc(self):\n",
    "        op1 = self.operands[0].calc()\n",
    "        op2 = self.operands[1].calc()\n",
    "\n",
    "        try:\n",
    "            if math.isnan(op1) or math.isnan(op2):\n",
    "                return float('nan')\n",
    "        except OverflowError:\n",
    "            return float('nan')\n",
    "\n",
    "        if op2 == 0:\n",
    "            return float('nan')\n",
    "\n",
    "        result = op1 / op2\n",
    "        if not math.isclose(result, round(result)):\n",
    "            return float('nan')\n",
    "\n",
    "        if result > int(sys.float_info.max):\n",
    "            return float('nan')\n",
    "\n",
    "        return int(round(result))\n",
    "        \n",
    "    def __str__(self):\n",
    "        return \"(\" + str(self.operands[0]) + \"/\" + str(self.operands[1]) + \")\"\n",
    "\n",
    "    def __eq__(self, other):\n",
    "        return type(self) == type(other) and self.operands[0] == other.operands[0] and self.operands[1] == other.operands[1]\n"
   ],
   "cell_type": "code",
   "outputs": [
    {
     "output_type": "error",
     "evalue": "Error: Jupyter server crashed. Unable to connect. \r\nError code from jupyter: 1"
    }
   ],
   "metadata": {},
   "execution_count": null
  },
  {
   "source": [
    "class Exponentiation(Operation):\n",
    "    def __init__(self, operands: List[Operation]):\n",
    "        super().__init__(operands)\n",
    "\n",
    "    def calc(self):\n",
    "        op1 = self.operands[0].calc()\n",
    "        op2 = self.operands[1].calc()\n",
    "\n",
    "        try:\n",
    "            if math.isnan(op1) or math.isnan(op2):\n",
    "                return float('nan')\n",
    "        except OverflowError:\n",
    "            return float('nan')\n",
    "\n",
    "        if op2 > 2000 or (op1 == 0 and op2 < 0):\n",
    "            return float('nan')\n",
    "\n",
    "        try:\n",
    "            result = op1 ** op2\n",
    "        except OverflowError:\n",
    "            return float('nan')\n",
    "\n",
    "        if isinstance(result, complex):\n",
    "            return float('nan')\n",
    "\n",
    "        if result > int(sys.float_info.max):\n",
    "            return float('nan')\n",
    "\n",
    "        return result\n",
    "\n",
    "    def __str__(self):\n",
    "        return \"(\" + str(self.operands[0]) + \"^\" + str(self.operands[1]) + \")\"\n",
    "\n",
    "    def __eq__(self, other):\n",
    "        return type(self) == type(other) and self.operands[0] == other.operands[0] and self.operands[1] == other.operands[1]\n",
    "\n"
   ],
   "cell_type": "code",
   "outputs": [
    {
     "output_type": "error",
     "evalue": "Error: Jupyter server crashed. Unable to connect. \r\nError code from jupyter: 1"
    }
   ],
   "metadata": {},
   "execution_count": null
  },
  {
   "source": [
    "class Factorial(Operation):\n",
    "    def __init__(self, operands: List[Operation]):\n",
    "        super().__init__(operands)\n",
    "\n",
    "    def calc(self):\n",
    "        op1 = self.operands[0].calc()\n",
    "\n",
    "        if op1 == 1 and type(self.operands[0]) == Factorial:\n",
    "            return float('nan')\n",
    "\n",
    "        try:\n",
    "            if math.isnan(op1) or op1 > 100 or op1 < 0:\n",
    "                return float('nan')\n",
    "        except OverflowError:\n",
    "            return float('nan')\n",
    "\n",
    "        if not float(op1).is_integer():\n",
    "            return float('nan')\n",
    "\n",
    "        result = math.factorial(op1)\n",
    "\n",
    "        if result > int(sys.float_info.max):\n",
    "            return float('nan')\n",
    "        return result\n",
    "\n",
    "    def __str__(self):\n",
    "        return \"(\" + str(self.operands[0]) + \"!)\"\n",
    "\n",
    "    def __eq__(self, other):\n",
    "        return type(self) == type(other) and self.operands[0] == other.operands[0]\n"
   ],
   "cell_type": "code",
   "outputs": [
    {
     "output_type": "error",
     "evalue": "Error: Jupyter server crashed. Unable to connect. \r\nError code from jupyter: 1"
    }
   ],
   "metadata": {},
   "execution_count": null
  },
  {
   "source": [
    "def getAllOperations(operation):\n",
    "    lst = [operation]\n",
    "\n",
    "    if type(operation) == Digit:\n",
    "        return lst\n",
    "\n",
    "    for operand in operation.operands:\n",
    "        lst.extend(getAllOperations(operand))\n",
    "\n",
    "    return lst"
   ],
   "cell_type": "code",
   "outputs": [
    {
     "output_type": "error",
     "evalue": "Error: Jupyter server crashed. Unable to connect. \r\nError code from jupyter: 1"
    }
   ],
   "metadata": {},
   "execution_count": null
  },
  {
   "source": [
    "def replaceOperation(index, operations, opType, digit, opCount = 2):\n",
    "    parent = operations[index].parent\n",
    "\n",
    "    if parent is not None:\n",
    "        for i, op in enumerate(parent.operands):\n",
    "            if op is operations[index]:\n",
    "                operation = deepcopy(operations[index])\n",
    "                lst = [operation]\n",
    "                lst.extend([Number([Digit(digit)]) for x in range(opCount - 1)])\n",
    "                parent.operands[i] = opType(lst)\n",
    "                break\n",
    "    else:\n",
    "        lst = [operations[index]]\n",
    "        lst.extend([Number([Digit(digit)]) for x in range(opCount - 1)])\n",
    "        operations = [opType(lst)]\n",
    "\n",
    "    return operations[0]\n"
   ],
   "cell_type": "code",
   "outputs": [
    {
     "output_type": "error",
     "evalue": "Error: Jupyter server crashed. Unable to connect. \r\nError code from jupyter: 1"
    }
   ],
   "metadata": {},
   "execution_count": null
  },
  {
   "source": [
    "def findEquation(num, digit):\n",
    "    workers = PriorityQueue()\n",
    "    eq = Number([Digit(digit)])\n",
    "    workers.push(eq, abs(num - eq.calc()))\n",
    "\n",
    "    equations = []\n",
    "    best = None\n",
    "    bestDigitCnt = -1\n",
    "\n",
    "    while not workers.empty():\n",
    "        worker = workers.pop()\n",
    "\n",
    "        if worker in equations:\n",
    "            continue\n",
    "\n",
    "        operations = getAllOperations(worker)\n",
    "\n",
    "        numDigit = sum(1 for op in operations if type(op) == Digit)\n",
    "        if bestDigitCnt > 0 and numDigit >= bestDigitCnt:\n",
    "            continue\n",
    "\n",
    "        result = worker.calc()\n",
    "\n",
    "        try:\n",
    "            float(result)\n",
    "        except OverflowError:\n",
    "            continue\n",
    "\n",
    "        if math.isnan(result):\n",
    "            continue\n",
    "\n",
    "        if worker.calc() == num and (best is None or numDigit < bestDigitCnt):\n",
    "            best = worker\n",
    "            bestDigitCnt = numDigit\n",
    "            continue\n",
    "\n",
    "        c = 1\n",
    "        if best is not None:\n",
    "            c *= (digit / 6)\n",
    "\n",
    "        print(\"Record =\", bestDigitCnt, \"Current: \", worker, \"=\", result)\n",
    "\n",
    "        if abs(num - result) > abs(((numDigit + 1 if bestDigitCnt == -1 else bestDigitCnt) - numDigit) * 2 * num):\n",
    "            break\n",
    "\n",
    "        for i, operation in enumerate(operations):\n",
    "            if type(operation) == Number:\n",
    "                newDigit = deepcopy(operations)\n",
    "                newDigit[i].operands.append(Digit(digit))\n",
    "                newDigit[i].operands[-1].parent = newDigit[i]\n",
    "                workers.push(newDigit[0], abs(num - newDigit[0].calc()) * (c ** numDigit))\n",
    "\n",
    "            if type(operation) != Digit:\n",
    "                if bestDigitCnt == -1 or numDigit < bestDigitCnt - 1:\n",
    "                    exp = replaceOperation(i, deepcopy(operations), Exponentiation, digit)\n",
    "                    add = replaceOperation(i, deepcopy(operations), Addition, digit)\n",
    "                    sub = replaceOperation(i, deepcopy(operations), Subtraction, digit)\n",
    "                    mul = replaceOperation(i, deepcopy(operations), Multiplication, digit)\n",
    "                    div = replaceOperation(i, deepcopy(operations), Division, digit)\n",
    "\n",
    "                    try:\n",
    "                        if not math.isnan(add.calc()):\n",
    "                            workers.push(add, abs(num - add.calc()) * (c ** numDigit))\n",
    "                    except:\n",
    "                        pass\n",
    "\n",
    "                    try:\n",
    "                        if not math.isnan(sub.calc()):\n",
    "                            workers.push(sub, abs(num - sub.calc()) * (c ** numDigit))\n",
    "                    except:\n",
    "                        pass\n",
    "\n",
    "                    try:\n",
    "                        if not math.isnan(mul.calc()):\n",
    "                            workers.push(mul, abs(num - mul.calc()) * (c ** numDigit))\n",
    "                    except:\n",
    "                        pass\n",
    "\n",
    "                    try:\n",
    "                        if not math.isnan(div.calc()):\n",
    "                            workers.push(div, abs(num - div.calc()) * (c ** numDigit))\n",
    "                    except:\n",
    "                        pass\n",
    "\n",
    "                    try:\n",
    "                        if not math.isnan(exp.calc()):\n",
    "                            workers.push(exp, abs(num - exp.calc()) * (c ** numDigit))\n",
    "                    except:\n",
    "                        pass\n",
    "\n",
    "                fac = replaceOperation(i, deepcopy(operations), Factorial, digit, 1)\n",
    "\n",
    "                try:\n",
    "                    if not math.isnan(fac.calc()):\n",
    "                        workers.push(fac, abs(num - fac.calc()) * (c ** numDigit))\n",
    "                except:\n",
    "                    pass\n",
    "\n",
    "        equations.append(worker)\n",
    "\n",
    "    return best"
   ],
   "cell_type": "code",
   "outputs": [
    {
     "output_type": "error",
     "evalue": "Error: Jupyter server crashed. Unable to connect. \r\nError code from jupyter: 1"
    }
   ],
   "metadata": {},
   "execution_count": null
  },
  {
   "source": [
    "sol = solveFor(2019, 3)\n",
    "print(sol, '=', sol.calc())\n",
    "\n",
    "#for i in range(1, 10):\n",
    "#    sol = solveFor(2019, i)\n",
    "#    print(sol, '=', sol.calc())\n",
    "#\n",
    "#for i in range(1, 10):\n",
    "#    sol = solveFor(2020, i)\n",
    "#    print(sol, '=', sol.calc())\n",
    "#\n",
    "#for i in range(1, 10):\n",
    "#    sol = solveFor(2030, i)\n",
    "#    print(sol, '=', sol.calc())\n",
    "#\n",
    "#for i in range(1, 10):\n",
    "#    sol = solveFor(2080, i)\n",
    "#    print(sol, '=', sol.calc())\n",
    "#\n",
    "#for i in range(1, 10):\n",
    "#    sol = solveFor(2980, i)\n",
    "#    print(sol, '=', sol.calc())"
   ],
   "cell_type": "code",
   "outputs": [
    {
     "output_type": "error",
     "evalue": "Error: Jupyter server crashed. Unable to connect. \r\nError code from jupyter: 1"
    }
   ],
   "metadata": {},
   "execution_count": null
  }
 ]
}